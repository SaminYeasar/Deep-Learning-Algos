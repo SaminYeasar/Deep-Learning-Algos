{
 "cells": [
  {
   "cell_type": "code",
   "execution_count": 1,
   "metadata": {},
   "outputs": [
    {
     "name": "stdout",
     "output_type": "stream",
     "text": [
      "Extracting MNIST_data\\train-images-idx3-ubyte.gz\n",
      "Extracting MNIST_data\\train-labels-idx1-ubyte.gz\n",
      "Extracting MNIST_data\\t10k-images-idx3-ubyte.gz\n",
      "Extracting MNIST_data\\t10k-labels-idx1-ubyte.gz\n"
     ]
    }
   ],
   "source": [
    "import tensorflow as tf\n",
    "from tensorflow.examples.tutorials.mnist import input_data\n",
    "data = input_data.read_data_sets('MNIST_data', one_hot=True)"
   ]
  },
  {
   "cell_type": "code",
   "execution_count": 2,
   "metadata": {
    "collapsed": true
   },
   "outputs": [],
   "source": [
    "x = tf.placeholder(tf.float32,[None,784])\n",
    "y = tf.placeholder(tf.float32,[None,10])"
   ]
  },
  {
   "cell_type": "code",
   "execution_count": 3,
   "metadata": {
    "collapsed": true
   },
   "outputs": [],
   "source": [
    "L = 200; M = 100; N=60; O=30\n",
    "\n",
    "W1 = tf.Variable( tf.truncated_normal( [784,L],stddev=0.1 ) )\n",
    "W2 = tf.Variable( tf.truncated_normal( [L,M],stddev=0.1 ) )\n",
    "W3 = tf.Variable( tf.truncated_normal( [M,N],stddev=0.1 ) )\n",
    "W4 = tf.Variable( tf.truncated_normal( [N,O],stddev=0.1 ) )\n",
    "W5 = tf.Variable( tf.truncated_normal( [O,10],stddev=0.1 ) )\n",
    "\n",
    "B1 = tf.Variable(tf.zeros([L]))\n",
    "B2 = tf.Variable(tf.zeros([M]))\n",
    "B3 = tf.Variable(tf.zeros([N]))\n",
    "B4 = tf.Variable(tf.zeros([O]))\n",
    "B5 = tf.Variable(tf.zeros([10]))"
   ]
  },
  {
   "cell_type": "code",
   "execution_count": 4,
   "metadata": {
    "collapsed": true
   },
   "outputs": [],
   "source": [
    "Y1 = tf.nn.sigmoid(tf.matmul(x,W1)+B1)\n",
    "Y2 = tf.nn.sigmoid(tf.matmul(Y1,W2)+B2)\n",
    "Y3 = tf.nn.sigmoid(tf.matmul(Y2,W3)+B3)\n",
    "Y4 = tf.nn.sigmoid(tf.matmul(Y3,W4)+B4)\n",
    "logits = tf.matmul(Y4,W5)+B5\n",
    "y_pred = tf.nn.softmax(logits)"
   ]
  },
  {
   "cell_type": "code",
   "execution_count": 5,
   "metadata": {
    "collapsed": true
   },
   "outputs": [],
   "source": [
    "cross_entropy = tf.reduce_mean( tf.nn.softmax_cross_entropy_with_logits(logits=logits,\n",
    "                                                        labels=y) )\n",
    "#optimizer = tf.train.GradientDescentOptimizer(0.05)\n",
    "optimizer = tf.train.AdamOptimizer()\n",
    "train_step = optimizer.minimize(cross_entropy) "
   ]
  },
  {
   "cell_type": "markdown",
   "metadata": {},
   "source": [
    "# 1# For Beginner \n",
    "We find the accuracy for testing data"
   ]
  },
  {
   "cell_type": "code",
   "execution_count": 31,
   "metadata": {},
   "outputs": [
    {
     "name": "stdout",
     "output_type": "stream",
     "text": [
      "0.9722\n"
     ]
    }
   ],
   "source": [
    "sess = tf.InteractiveSession()\n",
    "tf.global_variables_initializer().run()\n",
    "correct_pred = tf.equal(tf.argmax(y_pred,1),tf.argmax(y,1))\n",
    "accuracy = tf.reduce_mean(tf.cast(correct_pred,tf.float32))\n",
    "\n",
    "#for _ in range(10):\n",
    "for _ in range(10000):\n",
    "    batch_xs, batch_ys = data.train.next_batch(100)\n",
    "    training_data = {x: batch_xs, y: batch_ys}\n",
    "    sess.run(train_step, feed_dict=training_data)\n",
    "print(sess.run(accuracy,feed_dict={x:data.test.images,y:data.test.labels}))\n"
   ]
  },
  {
   "cell_type": "code",
   "execution_count": null,
   "metadata": {
    "collapsed": true
   },
   "outputs": [],
   "source": []
  },
  {
   "cell_type": "markdown",
   "metadata": {},
   "source": [
    "# 2# Better visualization \n",
    "Here we can see the improvement of accuray and cross_entropy as we train more data "
   ]
  },
  {
   "cell_type": "code",
   "execution_count": 7,
   "metadata": {},
   "outputs": [],
   "source": [
    "sess = tf.InteractiveSession()\n",
    "tf.global_variables_initializer().run()\n",
    "correct_pred = tf.equal(tf.argmax(y,1),tf.argmax(y_pred,1))\n",
    "accuracy = tf.reduce_mean(tf.cast(correct_pred,tf.float32))\n",
    "\n",
    "# train data\n",
    "training_acc = []\n",
    "training_ce = []\n",
    "test_acc = []\n",
    "test_ce = []\n",
    "import numpy as np\n",
    "for i in range(10000):\n",
    "    batch_xs, batch_ys = data.train.next_batch(100)\n",
    "    training_data = {x: batch_xs, y: batch_ys}\n",
    "    sess.run(train_step, feed_dict=training_data)\n",
    "\n",
    "    if  np.remainder([i], 100) == 0:\n",
    "        acc,ce = sess.run([accuracy,cross_entropy], feed_dict=training_data)\n",
    "        training_acc.append(acc)\n",
    "        training_ce.append(ce)\n",
    "        \n",
    "        test_data = {x:data.test.images,y:data.test.labels}\n",
    "        acc2,ce2 = sess.run([accuracy,cross_entropy],feed_dict=test_data)\n",
    "        test_acc.append(acc2)\n",
    "        test_ce.append(ce2)"
   ]
  },
  {
   "cell_type": "code",
   "execution_count": 9,
   "metadata": {},
   "outputs": [
    {
     "name": "stdout",
     "output_type": "stream",
     "text": [
      "Testing Accuracy:\t 0.9722\n",
      "Testing Cross Entropy:\t 0.121189\n"
     ]
    }
   ],
   "source": [
    "test_data = {x:data.test.images,y:data.test.labels}\n",
    "test_accuracy,test_crossentropy = sess.run([accuracy,cross_entropy],feed_dict=test_data)\n",
    "print('Testing Accuracy:\\t',test_accuracy)\n",
    "print('Testing Cross Entropy:\\t',test_crossentropy)"
   ]
  },
  {
   "cell_type": "code",
   "execution_count": 30,
   "metadata": {},
   "outputs": [
    {
     "data": {
      "image/png": "[encoded data removed]",
      "text/plain": [
       "<matplotlib.figure.Figure at 0x21998a72668>"
      ]
     },
     "metadata": {},
     "output_type": "display_data"
    },
    {
     "data": {
      "image/png": "[encoded data removed]",
      "text/plain": [
       "<matplotlib.figure.Figure at 0x21998b18eb8>"
      ]
     },
     "metadata": {},
     "output_type": "display_data"
    }
   ],
   "source": [
    "import matplotlib.pyplot as plt\n",
    "l = np.arange (100,10001,100)\n",
    "plt.plot(l,training_acc)\n",
    "plt.plot(l,test_acc)\n",
    "plt.xlabel('Training Examples')\n",
    "plt.ylabel('Accuray')\n",
    "plt.show()\n",
    "\n",
    "plt.plot(l,training_ce)\n",
    "plt.plot(l,test_ce)\n",
    "plt.xlabel('Training Examples')\n",
    "plt.ylabel('Cross-Entropy')\n",
    "plt.show()\n",
    "\n"
   ]
  },
  {
   "cell_type": "code",
   "execution_count": null,
   "metadata": {
    "collapsed": true
   },
   "outputs": [],
   "source": []
  }
 ],
 "metadata": {
  "kernelspec": {
   "display_name": "Python 3",
   "language": "python",
   "name": "python3"
  },
  "language_info": {
   "codemirror_mode": {
    "name": "ipython",
    "version": 3
   },
   "file_extension": ".py",
   "mimetype": "text/x-python",
   "name": "python",
   "nbconvert_exporter": "python",
   "pygments_lexer": "ipython3",
   "version": "3.5.2"
  }
 },
 "nbformat": 4,
 "nbformat_minor": 2
}
