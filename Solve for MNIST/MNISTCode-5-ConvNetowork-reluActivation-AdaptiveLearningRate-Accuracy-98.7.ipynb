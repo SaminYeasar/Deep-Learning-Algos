{
 "cells": [
  {
   "cell_type": "markdown",
   "metadata": {},
   "source": [
    "# Changes\n",
    "\n"
   ]
  },
  {
   "cell_type": "markdown",
   "metadata": {},
   "source": [
    "* Convolutional Neural Net\n",
    "* Using Relu as activation function\n",
    "* Adaptive Learning Rate - AdamOptimizer\n",
    "* initialize Bias,Weights as non-zero\n",
    "* Weights initialised with small random values between -0.2 and +0.2\n",
    "\n"
   ]
  },
  {
   "cell_type": "code",
   "execution_count": 56,
   "metadata": {},
   "outputs": [
    {
     "name": "stdout",
     "output_type": "stream",
     "text": [
      "Extracting MNIST_data\\train-images-idx3-ubyte.gz\n",
      "Extracting MNIST_data\\train-labels-idx1-ubyte.gz\n",
      "Extracting MNIST_data\\t10k-images-idx3-ubyte.gz\n",
      "Extracting MNIST_data\\t10k-labels-idx1-ubyte.gz\n"
     ]
    }
   ],
   "source": [
    "import tensorflow as tf\n",
    "from tensorflow.examples.tutorials.mnist import input_data\n",
    "data = input_data.read_data_sets('MNIST_data', one_hot=True,reshape=False, validation_size=0)"
   ]
  },
  {
   "cell_type": "code",
   "execution_count": 57,
   "metadata": {
    "collapsed": true
   },
   "outputs": [],
   "source": [
    "x = tf.placeholder(tf.float32,[None,28,28,1])\n",
    "y = tf.placeholder(tf.float32,[None,10])"
   ]
  },
  {
   "cell_type": "code",
   "execution_count": 58,
   "metadata": {
    "collapsed": true
   },
   "outputs": [],
   "source": [
    "K = 4 ; L = 8; M = 12; N=200;\n",
    "\n",
    "W1 = tf.Variable( tf.truncated_normal( [5,5,1,K],stddev=0.1 ) )\n",
    "W2 = tf.Variable( tf.truncated_normal( [5,5,K,L],stddev=0.1 ) )\n",
    "W3 = tf.Variable( tf.truncated_normal( [4,4,L,M],stddev=0.1 ) )\n",
    "W4 = tf.Variable( tf.truncated_normal( [7*7*M,N],stddev=0.1 ) )\n",
    "W5 = tf.Variable( tf.truncated_normal( [N,10],stddev=0.1 ) )\n",
    "\n",
    "B1 = tf.Variable(tf.ones([K])/10)\n",
    "B2 = tf.Variable(tf.ones([L])/10)\n",
    "B3 = tf.Variable(tf.ones([M])/10)\n",
    "B4 = tf.Variable(tf.ones([N])/10)\n",
    "B5 = tf.Variable(tf.ones([10])/10)"
   ]
  },
  {
   "cell_type": "code",
   "execution_count": 59,
   "metadata": {
    "collapsed": true
   },
   "outputs": [],
   "source": [
    "Y1 = tf.nn.relu(tf.nn.conv2d(x,W1,strides=[1,1,1,1],padding='SAME')+B1)\n",
    "Y2 = tf.nn.relu(tf.nn.conv2d(Y1,W2,strides=[1,2,2,1],padding='SAME')+B2)\n",
    "Y3 = tf.nn.relu(tf.nn.conv2d(Y2,W3,strides=[1,2,2,1],padding='SAME')+B3)\n",
    "\n",
    "YY = tf.reshape(Y3,shape=[-1,7*7*M])\n",
    "Y4 = tf.nn.relu(tf.matmul(YY,W4)+B4)\n",
    "\n",
    "\n",
    "\n",
    "logits = tf.matmul(Y4,W5)+B5\n",
    "y_pred = tf.nn.softmax(logits)"
   ]
  },
  {
   "cell_type": "code",
   "execution_count": 60,
   "metadata": {
    "collapsed": true
   },
   "outputs": [],
   "source": [
    "cross_entropy = tf.reduce_mean( tf.nn.softmax_cross_entropy_with_logits(logits=logits,\n",
    "                                                        labels=y) )\n",
    "#optimizer = tf.train.GradientDescentOptimizer(0.05)\n",
    "optimizer = tf.train.AdamOptimizer()\n",
    "train_step = optimizer.minimize(cross_entropy) "
   ]
  },
  {
   "cell_type": "markdown",
   "metadata": {},
   "source": [
    "# 1# For Beginner \n",
    "We find the accuracy for testing data"
   ]
  },
  {
   "cell_type": "code",
   "execution_count": 65,
   "metadata": {},
   "outputs": [
    {
     "name": "stdout",
     "output_type": "stream",
     "text": [
      "0.9874\n"
     ]
    }
   ],
   "source": [
    "sess = tf.InteractiveSession()\n",
    "tf.global_variables_initializer().run()\n",
    "correct_pred = tf.equal(tf.argmax(y_pred,1),tf.argmax(y,1))\n",
    "accuracy = tf.reduce_mean(tf.cast(correct_pred,tf.float32))\n",
    "\n",
    "\n",
    "for _ in range(10000):\n",
    "    batch_xs, batch_ys = data.train.next_batch(100)\n",
    "    training_data = {x: batch_xs, y: batch_ys}       \n",
    "    sess.run(train_step, feed_dict=training_data)\n",
    "    \n",
    "print(sess.run(accuracy,feed_dict={x:data.test.images,y:data.test.labels}))"
   ]
  },
  {
   "cell_type": "markdown",
   "metadata": {},
   "source": [
    "# 2# Better visualization \n",
    "Here we can see the improvement of accuray and cross_entropy as we train more data "
   ]
  },
  {
   "cell_type": "code",
   "execution_count": 62,
   "metadata": {
    "collapsed": true
   },
   "outputs": [],
   "source": [
    "sess = tf.InteractiveSession()\n",
    "tf.global_variables_initializer().run()\n",
    "correct_pred = tf.equal(tf.argmax(y,1),tf.argmax(y_pred,1))\n",
    "accuracy = tf.reduce_mean(tf.cast(correct_pred,tf.float32))\n",
    "\n",
    "# train data\n",
    "training_acc = []\n",
    "training_ce = []\n",
    "test_acc = []\n",
    "test_ce = []\n",
    "import numpy as np\n",
    "for i in range(10000):\n",
    "    batch_xs, batch_ys = data.train.next_batch(100)\n",
    "    training_data = {x: batch_xs, y: batch_ys}\n",
    "    sess.run(train_step, feed_dict=training_data)\n",
    "\n",
    "    if  np.remainder([i], 100) == 0:\n",
    "        acc,ce = sess.run([accuracy,cross_entropy], feed_dict=training_data)\n",
    "        training_acc.append(acc)\n",
    "        training_ce.append(ce)\n",
    "        \n",
    "        test_data = {x:data.test.images,y:data.test.labels}\n",
    "        acc2,ce2 = sess.run([accuracy,cross_entropy],feed_dict=test_data)\n",
    "        test_acc.append(acc2)\n",
    "        test_ce.append(ce2)\n",
    "    \n",
    "    \n"
   ]
  },
  {
   "cell_type": "code",
   "execution_count": 63,
   "metadata": {},
   "outputs": [
    {
     "name": "stdout",
     "output_type": "stream",
     "text": [
      "Testing Accuracy:\t 0.9874\n",
      "Testing Cross Entropy:\t 0.0584425\n"
     ]
    }
   ],
   "source": [
    "test_data = {x:data.test.images,y:data.test.labels}\n",
    "test_accuracy,test_crossentropy = sess.run([accuracy,cross_entropy],feed_dict=test_data)\n",
    "print('Testing Accuracy:\\t',test_accuracy)\n",
    "print('Testing Cross Entropy:\\t',test_crossentropy)"
   ]
  },
  {
   "cell_type": "code",
   "execution_count": 66,
   "metadata": {},
   "outputs": [
    {
     "data": {
      "image/png": "[encoded data removed]",
      "text/plain": [
       "<matplotlib.figure.Figure at 0x1c19db0e4a8>"
      ]
     },
     "metadata": {},
     "output_type": "display_data"
    },
    {
     "data": {
      "image/png": "[encoded data removed]",
      "text/plain": [
       "<matplotlib.figure.Figure at 0x1c19daeb9b0>"
      ]
     },
     "metadata": {},
     "output_type": "display_data"
    }
   ],
   "source": [
    "import matplotlib.pyplot as plt\n",
    "l = np.arange (100,10001,100)\n",
    "plt.plot(l,training_acc)\n",
    "plt.plot(l,test_acc)\n",
    "plt.xlabel('Training Examples')\n",
    "plt.ylabel('Accuray')\n",
    "plt.show()\n",
    "\n",
    "plt.plot(l,training_ce)\n",
    "plt.plot(l,test_ce)\n",
    "plt.xlabel('Training Examples')\n",
    "plt.ylabel('Cross-Entropy')\n",
    "plt.show()\n",
    "\n"
   ]
  },
  {
   "cell_type": "code",
   "execution_count": null,
   "metadata": {
    "collapsed": true
   },
   "outputs": [],
   "source": []
  }
 ],
 "metadata": {
  "kernelspec": {
   "display_name": "Python 3",
   "language": "python",
   "name": "python3"
  },
  "language_info": {
   "codemirror_mode": {
    "name": "ipython",
    "version": 3
   },
   "file_extension": ".py",
   "mimetype": "text/x-python",
   "name": "python",
   "nbconvert_exporter": "python",
   "pygments_lexer": "ipython3",
   "version": "3.5.2"
  }
 },
 "nbformat": 4,
 "nbformat_minor": 2
}
