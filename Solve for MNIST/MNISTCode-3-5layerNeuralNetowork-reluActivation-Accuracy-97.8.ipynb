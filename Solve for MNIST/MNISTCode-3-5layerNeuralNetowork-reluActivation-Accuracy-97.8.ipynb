{
 "cells": [
  {
   "cell_type": "markdown",
   "metadata": {},
   "source": [
    "# Changes\n",
    "\n",
    "We can see, \"accuracy\" and \"cross-entropy\" to fluctuate a lot. This is due to fixed learning rate. We need to have a adaptive learning rate for resolve this issue. \n",
    "\n",
    "Learning rate: In gradient descent learning rate is fixed. Details has been discussed following link. W're using \"adamOptimizer\" here\n",
    "* Link1: https://codelabs.developers.google.com/codelabs/cloud-tensorflow-mnist/#8\n",
    "* Link2: https://smist08.wordpress.com/2016/10/04/the-road-to-tensorflow-part-10-more-on-optimization/"
   ]
  },
  {
   "cell_type": "markdown",
   "metadata": {},
   "source": [
    "When using RELUs, make sure biases are initialised with small *positive* values for example 0.1 = tf.ones([K])/10\n",
    "* Using Relu as activation function\n",
    "* initialize Bias as non-zero\n",
    "* Weights initialised with small random values between -0.2 and +0.2\n",
    " "
   ]
  },
  {
   "cell_type": "code",
   "execution_count": 1,
   "metadata": {},
   "outputs": [
    {
     "name": "stdout",
     "output_type": "stream",
     "text": [
      "Extracting MNIST_data\\train-images-idx3-ubyte.gz\n",
      "Extracting MNIST_data\\train-labels-idx1-ubyte.gz\n",
      "Extracting MNIST_data\\t10k-images-idx3-ubyte.gz\n",
      "Extracting MNIST_data\\t10k-labels-idx1-ubyte.gz\n"
     ]
    }
   ],
   "source": [
    "import tensorflow as tf\n",
    "from tensorflow.examples.tutorials.mnist import input_data\n",
    "data = input_data.read_data_sets('MNIST_data', one_hot=True)"
   ]
  },
  {
   "cell_type": "code",
   "execution_count": 2,
   "metadata": {
    "collapsed": true
   },
   "outputs": [],
   "source": [
    "x = tf.placeholder(tf.float32,[None,784])\n",
    "y = tf.placeholder(tf.float32,[None,10])"
   ]
  },
  {
   "cell_type": "code",
   "execution_count": 3,
   "metadata": {
    "collapsed": true
   },
   "outputs": [],
   "source": [
    "L = 200; M = 100; N=60; O=30\n",
    "\n",
    "W1 = tf.Variable( tf.truncated_normal( [784,L],stddev=0.1 ) )\n",
    "W2 = tf.Variable( tf.truncated_normal( [L,M],stddev=0.1 ) )\n",
    "W3 = tf.Variable( tf.truncated_normal( [M,N],stddev=0.1 ) )\n",
    "W4 = tf.Variable( tf.truncated_normal( [N,O],stddev=0.1 ) )\n",
    "W5 = tf.Variable( tf.truncated_normal( [O,10],stddev=0.1 ) )\n",
    "\n",
    "B1 = tf.Variable(tf.ones([L])/10)\n",
    "B2 = tf.Variable(tf.ones([M])/10)\n",
    "B3 = tf.Variable(tf.ones([N])/10)\n",
    "B4 = tf.Variable(tf.ones([O])/10)\n",
    "B5 = tf.Variable(tf.ones([10])/10)"
   ]
  },
  {
   "cell_type": "code",
   "execution_count": 4,
   "metadata": {
    "collapsed": true
   },
   "outputs": [],
   "source": [
    "Y1 = tf.nn.relu(tf.matmul(x,W1)+B1)\n",
    "Y2 = tf.nn.relu(tf.matmul(Y1,W2)+B2)\n",
    "Y3 = tf.nn.relu(tf.matmul(Y2,W3)+B3)\n",
    "Y4 = tf.nn.relu(tf.matmul(Y3,W4)+B4)\n",
    "logits = tf.matmul(Y4,W5)+B5\n",
    "y_pred = tf.nn.softmax(logits)"
   ]
  },
  {
   "cell_type": "code",
   "execution_count": 5,
   "metadata": {
    "collapsed": true
   },
   "outputs": [],
   "source": [
    "cross_entropy = tf.reduce_mean( tf.nn.softmax_cross_entropy_with_logits(logits=logits,\n",
    "                                                        labels=y) )\n",
    "#optimizer = tf.train.GradientDescentOptimizer(0.05)\n",
    "optimizer = tf.train.AdamOptimizer()\n",
    "train_step = optimizer.minimize(cross_entropy) "
   ]
  },
  {
   "cell_type": "markdown",
   "metadata": {},
   "source": [
    "# 1# For Beginner \n",
    "We find the accuracy for testing data"
   ]
  },
  {
   "cell_type": "markdown",
   "metadata": {},
   "source": [
    "# 1#A. We backpropagate for 10 times"
   ]
  },
  {
   "cell_type": "code",
   "execution_count": null,
   "metadata": {},
   "outputs": [],
   "source": [
    "sess = tf.InteractiveSession()\n",
    "tf.global_variables_initializer().run()\n",
    "correct_pred = tf.equal(tf.argmax(y_pred,1),tf.argmax(y,1))\n",
    "accuracy = tf.reduce_mean(tf.cast(correct_pred,tf.float32))\n",
    "\n",
    "\n",
    "for _ in range(10000):\n",
    "    batch_xs, batch_ys = data.train.next_batch(100)\n",
    "    training_data = {x: batch_xs, y: batch_ys}\n",
    "    for _ in range(10):    \n",
    "        sess.run(train_step, feed_dict=training_data)\n",
    "\n",
    "print(sess.run(accuracy,feed_dict={x:data.test.images,y:data.test.labels}))\n"
   ]
  },
  {
   "cell_type": "markdown",
   "metadata": {},
   "source": [
    "# 1#B. We backpropagate once"
   ]
  },
  {
   "cell_type": "code",
   "execution_count": 10,
   "metadata": {},
   "outputs": [
    {
     "name": "stdout",
     "output_type": "stream",
     "text": [
      "0.9784\n"
     ]
    }
   ],
   "source": [
    "sess = tf.InteractiveSession()\n",
    "tf.global_variables_initializer().run()\n",
    "correct_pred = tf.equal(tf.argmax(y_pred,1),tf.argmax(y,1))\n",
    "accuracy = tf.reduce_mean(tf.cast(correct_pred,tf.float32))\n",
    "\n",
    "\n",
    "for _ in range(10000):\n",
    "    batch_xs, batch_ys = data.train.next_batch(100)\n",
    "    training_data = {x: batch_xs, y: batch_ys}       \n",
    "    sess.run(train_step, feed_dict=training_data)\n",
    "\n",
    "print(sess.run(accuracy,feed_dict={x:data.test.images,y:data.test.labels}))"
   ]
  },
  {
   "cell_type": "markdown",
   "metadata": {},
   "source": [
    "# 2# Better visualization \n",
    "Here we can see the improvement of accuray and cross_entropy as we train more data "
   ]
  },
  {
   "cell_type": "code",
   "execution_count": 7,
   "metadata": {},
   "outputs": [],
   "source": [
    "sess = tf.InteractiveSession()\n",
    "tf.global_variables_initializer().run()\n",
    "correct_pred = tf.equal(tf.argmax(y,1),tf.argmax(y_pred,1))\n",
    "accuracy = tf.reduce_mean(tf.cast(correct_pred,tf.float32))\n",
    "\n",
    "# train data\n",
    "training_acc = []\n",
    "training_ce = []\n",
    "test_acc = []\n",
    "test_ce = []\n",
    "import numpy as np\n",
    "for i in range(10000):\n",
    "    batch_xs, batch_ys = data.train.next_batch(100)\n",
    "    training_data = {x: batch_xs, y: batch_ys}\n",
    "    sess.run(train_step, feed_dict=training_data)\n",
    "\n",
    "    if  np.remainder([i], 100) == 0:\n",
    "        acc,ce = sess.run([accuracy,cross_entropy], feed_dict=training_data)\n",
    "        training_acc.append(acc)\n",
    "        training_ce.append(ce)\n",
    "        \n",
    "        test_data = {x:data.test.images,y:data.test.labels}\n",
    "        acc2,ce2 = sess.run([accuracy,cross_entropy],feed_dict=test_data)\n",
    "        test_acc.append(acc2)\n",
    "        test_ce.append(ce2)\n",
    "    \n",
    "    \n"
   ]
  },
  {
   "cell_type": "code",
   "execution_count": 8,
   "metadata": {},
   "outputs": [
    {
     "name": "stdout",
     "output_type": "stream",
     "text": [
      "Testing Accuracy:\t 0.9784\n",
      "Testing Cross Entropy:\t 0.100191\n"
     ]
    }
   ],
   "source": [
    "test_data = {x:data.test.images,y:data.test.labels}\n",
    "test_accuracy,test_crossentropy = sess.run([accuracy,cross_entropy],feed_dict=test_data)\n",
    "print('Testing Accuracy:\\t',test_accuracy)\n",
    "print('Testing Cross Entropy:\\t',test_crossentropy)"
   ]
  },
  {
   "cell_type": "code",
   "execution_count": 9,
   "metadata": {},
   "outputs": [
    {
     "data": {
      "image/png": "[encoded data removed]",
      "text/plain": [
       "<matplotlib.figure.Figure at 0x2af4c018e10>"
      ]
     },
     "metadata": {},
     "output_type": "display_data"
    },
    {
     "data": {
      "image/png": "[encoded data removed]",
      "text/plain": [
       "<matplotlib.figure.Figure at 0x2af4e2ea278>"
      ]
     },
     "metadata": {},
     "output_type": "display_data"
    }
   ],
   "source": [
    "import matplotlib.pyplot as plt\n",
    "plt.plot(training_acc)\n",
    "plt.plot(test_acc)\n",
    "plt.xlabel('Training Examples')\n",
    "plt.ylabel('Accuray')\n",
    "plt.show()\n",
    "\n",
    "plt.plot(training_ce)\n",
    "plt.plot(test_ce)\n",
    "plt.xlabel('Training Examples')\n",
    "plt.ylabel('Cross-Entropy')\n",
    "plt.show()\n",
    "\n"
   ]
  },
  {
   "cell_type": "code",
   "execution_count": null,
   "metadata": {
    "collapsed": true
   },
   "outputs": [],
   "source": []
  }
 ],
 "metadata": {
  "kernelspec": {
   "display_name": "Python 3",
   "language": "python",
   "name": "python3"
  },
  "language_info": {
   "codemirror_mode": {
    "name": "ipython",
    "version": 3
   },
   "file_extension": ".py",
   "mimetype": "text/x-python",
   "name": "python",
   "nbconvert_exporter": "python",
   "pygments_lexer": "ipython3",
   "version": "3.5.2"
  }
 },
 "nbformat": 4,
 "nbformat_minor": 2
}
