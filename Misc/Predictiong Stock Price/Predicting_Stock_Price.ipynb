{
 "cells": [
  {
   "cell_type": "code",
   "execution_count": 17,
   "metadata": {
    "collapsed": true
   },
   "outputs": [],
   "source": [
    "import quandl"
   ]
  },
  {
   "cell_type": "code",
   "execution_count": 18,
   "metadata": {
    "collapsed": true
   },
   "outputs": [],
   "source": [
    "df = quandl.get('WIKI/GOOGL')"
   ]
  },
  {
   "cell_type": "code",
   "execution_count": 19,
   "metadata": {},
   "outputs": [
    {
     "data": {
      "text/plain": [
       "Index(['Open', 'High', 'Low', 'Close', 'Volume', 'Ex-Dividend', 'Split Ratio',\n",
       "       'Adj. Open', 'Adj. High', 'Adj. Low', 'Adj. Close', 'Adj. Volume'],\n",
       "      dtype='object')"
      ]
     },
     "execution_count": 19,
     "metadata": {},
     "output_type": "execute_result"
    }
   ],
   "source": [
    "df.columns"
   ]
  },
  {
   "cell_type": "markdown",
   "metadata": {},
   "source": [
    "# Feature Selection\n",
    "* Exclude Redundant Feature\n",
    "* Find relationships among the feature & get new sets of feature"
   ]
  },
  {
   "cell_type": "code",
   "execution_count": 20,
   "metadata": {
    "collapsed": true
   },
   "outputs": [],
   "source": [
    "# get High-Low Percentage Change\n",
    "df['HL_PC'] = (df['Adj. High'] - df['Adj. Low'])/df['Adj. Low']*100\n",
    "\n",
    "# get daily Percentage Change\n",
    "df['PL_Change'] = (df['Adj. Close'] - df['Adj. Open'])/df['Adj. Open']*100"
   ]
  },
  {
   "cell_type": "code",
   "execution_count": 21,
   "metadata": {
    "collapsed": true
   },
   "outputs": [],
   "source": [
    "# As we found out relations between feature columns we can exclude the redundent features\n",
    "df = df[ ['Adj. Close','HL_PC','PL_Change','Adj. Volume'] ]\n"
   ]
  },
  {
   "cell_type": "code",
   "execution_count": 22,
   "metadata": {},
   "outputs": [
    {
     "data": {
      "text/html": [
       "<div>\n",
       "<table border=\"1\" class=\"dataframe\">\n",
       "  <thead>\n",
       "    <tr style=\"text-align: right;\">\n",
       "      <th></th>\n",
       "      <th>Adj. Close</th>\n",
       "      <th>HL_PC</th>\n",
       "      <th>PL_Change</th>\n",
       "      <th>Adj. Volume</th>\n",
       "    </tr>\n",
       "    <tr>\n",
       "      <th>Date</th>\n",
       "      <th></th>\n",
       "      <th></th>\n",
       "      <th></th>\n",
       "      <th></th>\n",
       "    </tr>\n",
       "  </thead>\n",
       "  <tbody>\n",
       "    <tr>\n",
       "      <th>2004-08-19</th>\n",
       "      <td>50.322842</td>\n",
       "      <td>8.441017</td>\n",
       "      <td>0.324968</td>\n",
       "      <td>44659000.0</td>\n",
       "    </tr>\n",
       "    <tr>\n",
       "      <th>2004-08-20</th>\n",
       "      <td>54.322689</td>\n",
       "      <td>8.537313</td>\n",
       "      <td>7.227007</td>\n",
       "      <td>22834300.0</td>\n",
       "    </tr>\n",
       "    <tr>\n",
       "      <th>2004-08-23</th>\n",
       "      <td>54.869377</td>\n",
       "      <td>4.062357</td>\n",
       "      <td>-1.227880</td>\n",
       "      <td>18256100.0</td>\n",
       "    </tr>\n",
       "    <tr>\n",
       "      <th>2004-08-24</th>\n",
       "      <td>52.597363</td>\n",
       "      <td>7.753210</td>\n",
       "      <td>-5.726357</td>\n",
       "      <td>15247300.0</td>\n",
       "    </tr>\n",
       "    <tr>\n",
       "      <th>2004-08-25</th>\n",
       "      <td>53.164113</td>\n",
       "      <td>3.966115</td>\n",
       "      <td>1.183658</td>\n",
       "      <td>9188600.0</td>\n",
       "    </tr>\n",
       "  </tbody>\n",
       "</table>\n",
       "</div>"
      ],
      "text/plain": [
       "            Adj. Close     HL_PC  PL_Change  Adj. Volume\n",
       "Date                                                    \n",
       "2004-08-19   50.322842  8.441017   0.324968   44659000.0\n",
       "2004-08-20   54.322689  8.537313   7.227007   22834300.0\n",
       "2004-08-23   54.869377  4.062357  -1.227880   18256100.0\n",
       "2004-08-24   52.597363  7.753210  -5.726357   15247300.0\n",
       "2004-08-25   53.164113  3.966115   1.183658    9188600.0"
      ]
     },
     "execution_count": 22,
     "metadata": {},
     "output_type": "execute_result"
    }
   ],
   "source": [
    "df.head()"
   ]
  },
  {
   "cell_type": "code",
   "execution_count": 23,
   "metadata": {
    "collapsed": true
   },
   "outputs": [],
   "source": [
    "# rather than getting rid of data we make it a outlier. we fill any NaN data with -99999.  \n",
    "# can also just drop all feature/label sets that contain missing data, but then you're maybe leaving a lot of data out.\n",
    "\n",
    "df.fillna(-9999, inplace=True)"
   ]
  },
  {
   "cell_type": "markdown",
   "metadata": {},
   "source": [
    "In our case, what are the features and what is the label? We're trying to predict the price, so is price the label? If so, what are the featuers? When it comes to forecasting out the price, our label, the thing we're hoping to predict, is actually the future price. As such, our features are actually: current price, high minus low percent, and the percent change volatility. The price that is the label shall be the price at some determined point the future. Let's go ahead and add a few new rows"
   ]
  },
  {
   "cell_type": "code",
   "execution_count": null,
   "metadata": {
    "collapsed": true
   },
   "outputs": [],
   "source": [
    "# We're saying we want to forecast out 1% of the entire length of the dataset\n",
    "import math\n",
    "forecast_out = int(math.ceil(0.01 * len(df)))\n",
    "df['label'] = df['Adj. Close']"
   ]
  },
  {
   "cell_type": "code",
   "execution_count": 25,
   "metadata": {},
   "outputs": [
    {
     "data": {
      "text/html": [
       "<div>\n",
       "<table border=\"1\" class=\"dataframe\">\n",
       "  <thead>\n",
       "    <tr style=\"text-align: right;\">\n",
       "      <th></th>\n",
       "      <th>Adj. Close</th>\n",
       "      <th>HL_PC</th>\n",
       "      <th>PL_Change</th>\n",
       "      <th>Adj. Volume</th>\n",
       "      <th>label</th>\n",
       "    </tr>\n",
       "    <tr>\n",
       "      <th>Date</th>\n",
       "      <th></th>\n",
       "      <th></th>\n",
       "      <th></th>\n",
       "      <th></th>\n",
       "      <th></th>\n",
       "    </tr>\n",
       "  </thead>\n",
       "  <tbody>\n",
       "    <tr>\n",
       "      <th>2017-05-22</th>\n",
       "      <td>964.07</td>\n",
       "      <td>0.863511</td>\n",
       "      <td>0.738767</td>\n",
       "      <td>1305246.0</td>\n",
       "      <td>964.07</td>\n",
       "    </tr>\n",
       "    <tr>\n",
       "      <th>2017-05-23</th>\n",
       "      <td>970.55</td>\n",
       "      <td>1.037843</td>\n",
       "      <td>0.060827</td>\n",
       "      <td>1529617.0</td>\n",
       "      <td>970.55</td>\n",
       "    </tr>\n",
       "    <tr>\n",
       "      <th>2017-05-24</th>\n",
       "      <td>977.61</td>\n",
       "      <td>0.667445</td>\n",
       "      <td>0.240961</td>\n",
       "      <td>1128880.0</td>\n",
       "      <td>977.61</td>\n",
       "    </tr>\n",
       "    <tr>\n",
       "      <th>2017-05-25</th>\n",
       "      <td>991.86</td>\n",
       "      <td>1.836739</td>\n",
       "      <td>1.313585</td>\n",
       "      <td>1951402.0</td>\n",
       "      <td>991.86</td>\n",
       "    </tr>\n",
       "    <tr>\n",
       "      <th>2017-05-26</th>\n",
       "      <td>993.27</td>\n",
       "      <td>0.914560</td>\n",
       "      <td>0.128024</td>\n",
       "      <td>1622807.0</td>\n",
       "      <td>993.27</td>\n",
       "    </tr>\n",
       "  </tbody>\n",
       "</table>\n",
       "</div>"
      ],
      "text/plain": [
       "            Adj. Close     HL_PC  PL_Change  Adj. Volume   label\n",
       "Date                                                            \n",
       "2017-05-22      964.07  0.863511   0.738767    1305246.0  964.07\n",
       "2017-05-23      970.55  1.037843   0.060827    1529617.0  970.55\n",
       "2017-05-24      977.61  0.667445   0.240961    1128880.0  977.61\n",
       "2017-05-25      991.86  1.836739   1.313585    1951402.0  991.86\n",
       "2017-05-26      993.27  0.914560   0.128024    1622807.0  993.27"
      ]
     },
     "execution_count": 25,
     "metadata": {},
     "output_type": "execute_result"
    }
   ],
   "source": [
    "df.tail()"
   ]
  },
  {
   "cell_type": "code",
   "execution_count": 26,
   "metadata": {},
   "outputs": [
    {
     "data": {
      "text/plain": [
       "(3216, 4)"
      ]
     },
     "execution_count": 26,
     "metadata": {},
     "output_type": "execute_result"
    }
   ],
   "source": [
    "import numpy as np\n",
    "# here we use  (['label'],1) by \"1\" we define drop the \"column\" \n",
    "X = np.array(df.drop ( ['label'],1 ) )\n",
    "X.shape"
   ]
  },
  {
   "cell_type": "code",
   "execution_count": 27,
   "metadata": {},
   "outputs": [
    {
     "name": "stdout",
     "output_type": "stream",
     "text": [
      "(33, 4)\n"
     ]
    },
    {
     "data": {
      "text/plain": [
       "(3183, 4)"
      ]
     },
     "execution_count": 27,
     "metadata": {},
     "output_type": "execute_result"
    }
   ],
   "source": [
    "from sklearn import preprocessing\n",
    "X_scaled = preprocessing.scale(X)\n",
    "\n",
    "X_predict = X_scaled[-forecast_out:]\n",
    "print(X_predict.shape)\n",
    "\n",
    "X_data = X_scaled[:-forecast_out:]\n",
    "X_data.shape"
   ]
  },
  {
   "cell_type": "code",
   "execution_count": 29,
   "metadata": {},
   "outputs": [
    {
     "name": "stdout",
     "output_type": "stream",
     "text": [
      "(33,)\n",
      "[ 839.88  841.46  840.18  855.13  853.99  856.51  860.08  858.95  878.93\n",
      "  888.84  889.14  891.44  924.52  932.82  937.09  948.45  954.72  950.28\n",
      "  958.69  956.71  954.84  955.89  955.14  959.22  964.61  942.17  950.5\n",
      "  954.65  964.07  970.55  977.61  991.86  993.27]\n"
     ]
    }
   ],
   "source": [
    "y_predict = np.array( df['label'][-forecast_out:] )\n",
    "print( y_predict.shape )\n",
    "print( y_predict )"
   ]
  },
  {
   "cell_type": "code",
   "execution_count": 30,
   "metadata": {},
   "outputs": [
    {
     "data": {
      "text/html": [
       "<div>\n",
       "<table border=\"1\" class=\"dataframe\">\n",
       "  <thead>\n",
       "    <tr style=\"text-align: right;\">\n",
       "      <th></th>\n",
       "      <th>Adj. Close</th>\n",
       "      <th>HL_PC</th>\n",
       "      <th>PL_Change</th>\n",
       "      <th>Adj. Volume</th>\n",
       "      <th>label</th>\n",
       "    </tr>\n",
       "    <tr>\n",
       "      <th>Date</th>\n",
       "      <th></th>\n",
       "      <th></th>\n",
       "      <th></th>\n",
       "      <th></th>\n",
       "      <th></th>\n",
       "    </tr>\n",
       "  </thead>\n",
       "  <tbody>\n",
       "    <tr>\n",
       "      <th>2017-03-31</th>\n",
       "      <td>847.800</td>\n",
       "      <td>0.510562</td>\n",
       "      <td>0.114545</td>\n",
       "      <td>1440982.0</td>\n",
       "      <td>950.50</td>\n",
       "    </tr>\n",
       "    <tr>\n",
       "      <th>2017-04-03</th>\n",
       "      <td>856.750</td>\n",
       "      <td>1.353368</td>\n",
       "      <td>0.942563</td>\n",
       "      <td>1969402.0</td>\n",
       "      <td>954.65</td>\n",
       "    </tr>\n",
       "    <tr>\n",
       "      <th>2017-04-04</th>\n",
       "      <td>852.570</td>\n",
       "      <td>0.648374</td>\n",
       "      <td>0.538915</td>\n",
       "      <td>1348494.0</td>\n",
       "      <td>964.07</td>\n",
       "    </tr>\n",
       "    <tr>\n",
       "      <th>2017-04-05</th>\n",
       "      <td>848.910</td>\n",
       "      <td>1.542146</td>\n",
       "      <td>-0.678593</td>\n",
       "      <td>1855153.0</td>\n",
       "      <td>970.55</td>\n",
       "    </tr>\n",
       "    <tr>\n",
       "      <th>2017-04-06</th>\n",
       "      <td>845.095</td>\n",
       "      <td>1.136256</td>\n",
       "      <td>-0.518540</td>\n",
       "      <td>1533564.0</td>\n",
       "      <td>977.61</td>\n",
       "    </tr>\n",
       "    <tr>\n",
       "      <th>2017-04-07</th>\n",
       "      <td>842.100</td>\n",
       "      <td>1.024722</td>\n",
       "      <td>-0.343195</td>\n",
       "      <td>1110404.0</td>\n",
       "      <td>991.86</td>\n",
       "    </tr>\n",
       "    <tr>\n",
       "      <th>2017-04-10</th>\n",
       "      <td>841.700</td>\n",
       "      <td>0.707335</td>\n",
       "      <td>0.019013</td>\n",
       "      <td>1046215.0</td>\n",
       "      <td>993.27</td>\n",
       "    </tr>\n",
       "    <tr>\n",
       "      <th>2017-04-11</th>\n",
       "      <td>839.880</td>\n",
       "      <td>1.201773</td>\n",
       "      <td>-0.216229</td>\n",
       "      <td>974343.0</td>\n",
       "      <td>NaN</td>\n",
       "    </tr>\n",
       "    <tr>\n",
       "      <th>2017-04-12</th>\n",
       "      <td>841.460</td>\n",
       "      <td>0.731862</td>\n",
       "      <td>0.357799</td>\n",
       "      <td>1135775.0</td>\n",
       "      <td>NaN</td>\n",
       "    </tr>\n",
       "    <tr>\n",
       "      <th>2017-04-13</th>\n",
       "      <td>840.180</td>\n",
       "      <td>0.701760</td>\n",
       "      <td>-0.102254</td>\n",
       "      <td>1073650.0</td>\n",
       "      <td>NaN</td>\n",
       "    </tr>\n",
       "    <tr>\n",
       "      <th>2017-04-17</th>\n",
       "      <td>855.130</td>\n",
       "      <td>1.737156</td>\n",
       "      <td>1.634220</td>\n",
       "      <td>1049125.0</td>\n",
       "      <td>NaN</td>\n",
       "    </tr>\n",
       "    <tr>\n",
       "      <th>2017-04-18</th>\n",
       "      <td>853.990</td>\n",
       "      <td>0.721292</td>\n",
       "      <td>0.170080</td>\n",
       "      <td>936201.0</td>\n",
       "      <td>NaN</td>\n",
       "    </tr>\n",
       "    <tr>\n",
       "      <th>2017-04-19</th>\n",
       "      <td>856.510</td>\n",
       "      <td>0.781756</td>\n",
       "      <td>-0.102055</td>\n",
       "      <td>1080336.0</td>\n",
       "      <td>NaN</td>\n",
       "    </tr>\n",
       "    <tr>\n",
       "      <th>2017-04-20</th>\n",
       "      <td>860.080</td>\n",
       "      <td>0.749854</td>\n",
       "      <td>0.039547</td>\n",
       "      <td>1188843.0</td>\n",
       "      <td>NaN</td>\n",
       "    </tr>\n",
       "    <tr>\n",
       "      <th>2017-04-21</th>\n",
       "      <td>858.950</td>\n",
       "      <td>0.549124</td>\n",
       "      <td>-0.194046</td>\n",
       "      <td>1172870.0</td>\n",
       "      <td>NaN</td>\n",
       "    </tr>\n",
       "    <tr>\n",
       "      <th>2017-04-24</th>\n",
       "      <td>878.930</td>\n",
       "      <td>1.599104</td>\n",
       "      <td>1.207913</td>\n",
       "      <td>1691896.0</td>\n",
       "      <td>NaN</td>\n",
       "    </tr>\n",
       "    <tr>\n",
       "      <th>2017-04-25</th>\n",
       "      <td>888.840</td>\n",
       "      <td>1.475059</td>\n",
       "      <td>0.745812</td>\n",
       "      <td>2020460.0</td>\n",
       "      <td>NaN</td>\n",
       "    </tr>\n",
       "    <tr>\n",
       "      <th>2017-04-26</th>\n",
       "      <td>889.140</td>\n",
       "      <td>0.885726</td>\n",
       "      <td>-0.252415</td>\n",
       "      <td>1302032.0</td>\n",
       "      <td>NaN</td>\n",
       "    </tr>\n",
       "    <tr>\n",
       "      <th>2017-04-27</th>\n",
       "      <td>891.440</td>\n",
       "      <td>0.698550</td>\n",
       "      <td>0.161798</td>\n",
       "      <td>1817740.0</td>\n",
       "      <td>NaN</td>\n",
       "    </tr>\n",
       "    <tr>\n",
       "      <th>2017-04-28</th>\n",
       "      <td>924.520</td>\n",
       "      <td>1.373454</td>\n",
       "      <td>-0.482239</td>\n",
       "      <td>3753169.0</td>\n",
       "      <td>NaN</td>\n",
       "    </tr>\n",
       "    <tr>\n",
       "      <th>2017-05-01</th>\n",
       "      <td>932.820</td>\n",
       "      <td>1.631190</td>\n",
       "      <td>0.938159</td>\n",
       "      <td>2294856.0</td>\n",
       "      <td>NaN</td>\n",
       "    </tr>\n",
       "    <tr>\n",
       "      <th>2017-05-02</th>\n",
       "      <td>937.090</td>\n",
       "      <td>1.287325</td>\n",
       "      <td>0.409313</td>\n",
       "      <td>1745453.0</td>\n",
       "      <td>NaN</td>\n",
       "    </tr>\n",
       "    <tr>\n",
       "      <th>2017-05-03</th>\n",
       "      <td>948.450</td>\n",
       "      <td>1.602849</td>\n",
       "      <td>1.324716</td>\n",
       "      <td>1792847.0</td>\n",
       "      <td>NaN</td>\n",
       "    </tr>\n",
       "    <tr>\n",
       "      <th>2017-05-04</th>\n",
       "      <td>954.720</td>\n",
       "      <td>1.242387</td>\n",
       "      <td>0.466173</td>\n",
       "      <td>1934652.0</td>\n",
       "      <td>NaN</td>\n",
       "    </tr>\n",
       "    <tr>\n",
       "      <th>2017-05-05</th>\n",
       "      <td>950.280</td>\n",
       "      <td>1.090699</td>\n",
       "      <td>-0.673133</td>\n",
       "      <td>1593898.0</td>\n",
       "      <td>NaN</td>\n",
       "    </tr>\n",
       "    <tr>\n",
       "      <th>2017-05-08</th>\n",
       "      <td>958.690</td>\n",
       "      <td>1.434988</td>\n",
       "      <td>1.186342</td>\n",
       "      <td>1863198.0</td>\n",
       "      <td>NaN</td>\n",
       "    </tr>\n",
       "    <tr>\n",
       "      <th>2017-05-09</th>\n",
       "      <td>956.710</td>\n",
       "      <td>0.817267</td>\n",
       "      <td>-0.480584</td>\n",
       "      <td>1633396.0</td>\n",
       "      <td>NaN</td>\n",
       "    </tr>\n",
       "    <tr>\n",
       "      <th>2017-05-10</th>\n",
       "      <td>954.840</td>\n",
       "      <td>0.723280</td>\n",
       "      <td>-0.144318</td>\n",
       "      <td>1135809.0</td>\n",
       "      <td>NaN</td>\n",
       "    </tr>\n",
       "    <tr>\n",
       "      <th>2017-05-11</th>\n",
       "      <td>955.890</td>\n",
       "      <td>0.988815</td>\n",
       "      <td>0.483554</td>\n",
       "      <td>1016797.0</td>\n",
       "      <td>NaN</td>\n",
       "    </tr>\n",
       "    <tr>\n",
       "      <th>2017-05-12</th>\n",
       "      <td>955.140</td>\n",
       "      <td>0.621810</td>\n",
       "      <td>-0.282925</td>\n",
       "      <td>1204133.0</td>\n",
       "      <td>NaN</td>\n",
       "    </tr>\n",
       "    <tr>\n",
       "      <th>2017-05-15</th>\n",
       "      <td>959.220</td>\n",
       "      <td>1.036922</td>\n",
       "      <td>0.411393</td>\n",
       "      <td>1314574.0</td>\n",
       "      <td>NaN</td>\n",
       "    </tr>\n",
       "    <tr>\n",
       "      <th>2017-05-16</th>\n",
       "      <td>964.610</td>\n",
       "      <td>0.577446</td>\n",
       "      <td>0.110010</td>\n",
       "      <td>1069898.0</td>\n",
       "      <td>NaN</td>\n",
       "    </tr>\n",
       "    <tr>\n",
       "      <th>2017-05-17</th>\n",
       "      <td>942.170</td>\n",
       "      <td>2.226454</td>\n",
       "      <td>-1.826612</td>\n",
       "      <td>2414323.0</td>\n",
       "      <td>NaN</td>\n",
       "    </tr>\n",
       "    <tr>\n",
       "      <th>2017-05-18</th>\n",
       "      <td>950.500</td>\n",
       "      <td>1.371551</td>\n",
       "      <td>0.773961</td>\n",
       "      <td>1758452.0</td>\n",
       "      <td>NaN</td>\n",
       "    </tr>\n",
       "    <tr>\n",
       "      <th>2017-05-19</th>\n",
       "      <td>954.650</td>\n",
       "      <td>0.794118</td>\n",
       "      <td>0.192061</td>\n",
       "      <td>1327354.0</td>\n",
       "      <td>NaN</td>\n",
       "    </tr>\n",
       "    <tr>\n",
       "      <th>2017-05-22</th>\n",
       "      <td>964.070</td>\n",
       "      <td>0.863511</td>\n",
       "      <td>0.738767</td>\n",
       "      <td>1305246.0</td>\n",
       "      <td>NaN</td>\n",
       "    </tr>\n",
       "    <tr>\n",
       "      <th>2017-05-23</th>\n",
       "      <td>970.550</td>\n",
       "      <td>1.037843</td>\n",
       "      <td>0.060827</td>\n",
       "      <td>1529617.0</td>\n",
       "      <td>NaN</td>\n",
       "    </tr>\n",
       "    <tr>\n",
       "      <th>2017-05-24</th>\n",
       "      <td>977.610</td>\n",
       "      <td>0.667445</td>\n",
       "      <td>0.240961</td>\n",
       "      <td>1128880.0</td>\n",
       "      <td>NaN</td>\n",
       "    </tr>\n",
       "    <tr>\n",
       "      <th>2017-05-25</th>\n",
       "      <td>991.860</td>\n",
       "      <td>1.836739</td>\n",
       "      <td>1.313585</td>\n",
       "      <td>1951402.0</td>\n",
       "      <td>NaN</td>\n",
       "    </tr>\n",
       "    <tr>\n",
       "      <th>2017-05-26</th>\n",
       "      <td>993.270</td>\n",
       "      <td>0.914560</td>\n",
       "      <td>0.128024</td>\n",
       "      <td>1622807.0</td>\n",
       "      <td>NaN</td>\n",
       "    </tr>\n",
       "  </tbody>\n",
       "</table>\n",
       "</div>"
      ],
      "text/plain": [
       "            Adj. Close     HL_PC  PL_Change  Adj. Volume   label\n",
       "Date                                                            \n",
       "2017-03-31     847.800  0.510562   0.114545    1440982.0  950.50\n",
       "2017-04-03     856.750  1.353368   0.942563    1969402.0  954.65\n",
       "2017-04-04     852.570  0.648374   0.538915    1348494.0  964.07\n",
       "2017-04-05     848.910  1.542146  -0.678593    1855153.0  970.55\n",
       "2017-04-06     845.095  1.136256  -0.518540    1533564.0  977.61\n",
       "2017-04-07     842.100  1.024722  -0.343195    1110404.0  991.86\n",
       "2017-04-10     841.700  0.707335   0.019013    1046215.0  993.27\n",
       "2017-04-11     839.880  1.201773  -0.216229     974343.0     NaN\n",
       "2017-04-12     841.460  0.731862   0.357799    1135775.0     NaN\n",
       "2017-04-13     840.180  0.701760  -0.102254    1073650.0     NaN\n",
       "2017-04-17     855.130  1.737156   1.634220    1049125.0     NaN\n",
       "2017-04-18     853.990  0.721292   0.170080     936201.0     NaN\n",
       "2017-04-19     856.510  0.781756  -0.102055    1080336.0     NaN\n",
       "2017-04-20     860.080  0.749854   0.039547    1188843.0     NaN\n",
       "2017-04-21     858.950  0.549124  -0.194046    1172870.0     NaN\n",
       "2017-04-24     878.930  1.599104   1.207913    1691896.0     NaN\n",
       "2017-04-25     888.840  1.475059   0.745812    2020460.0     NaN\n",
       "2017-04-26     889.140  0.885726  -0.252415    1302032.0     NaN\n",
       "2017-04-27     891.440  0.698550   0.161798    1817740.0     NaN\n",
       "2017-04-28     924.520  1.373454  -0.482239    3753169.0     NaN\n",
       "2017-05-01     932.820  1.631190   0.938159    2294856.0     NaN\n",
       "2017-05-02     937.090  1.287325   0.409313    1745453.0     NaN\n",
       "2017-05-03     948.450  1.602849   1.324716    1792847.0     NaN\n",
       "2017-05-04     954.720  1.242387   0.466173    1934652.0     NaN\n",
       "2017-05-05     950.280  1.090699  -0.673133    1593898.0     NaN\n",
       "2017-05-08     958.690  1.434988   1.186342    1863198.0     NaN\n",
       "2017-05-09     956.710  0.817267  -0.480584    1633396.0     NaN\n",
       "2017-05-10     954.840  0.723280  -0.144318    1135809.0     NaN\n",
       "2017-05-11     955.890  0.988815   0.483554    1016797.0     NaN\n",
       "2017-05-12     955.140  0.621810  -0.282925    1204133.0     NaN\n",
       "2017-05-15     959.220  1.036922   0.411393    1314574.0     NaN\n",
       "2017-05-16     964.610  0.577446   0.110010    1069898.0     NaN\n",
       "2017-05-17     942.170  2.226454  -1.826612    2414323.0     NaN\n",
       "2017-05-18     950.500  1.371551   0.773961    1758452.0     NaN\n",
       "2017-05-19     954.650  0.794118   0.192061    1327354.0     NaN\n",
       "2017-05-22     964.070  0.863511   0.738767    1305246.0     NaN\n",
       "2017-05-23     970.550  1.037843   0.060827    1529617.0     NaN\n",
       "2017-05-24     977.610  0.667445   0.240961    1128880.0     NaN\n",
       "2017-05-25     991.860  1.836739   1.313585    1951402.0     NaN\n",
       "2017-05-26     993.270  0.914560   0.128024    1622807.0     NaN"
      ]
     },
     "execution_count": 30,
     "metadata": {},
     "output_type": "execute_result"
    }
   ],
   "source": [
    "df['label'] = df['label'].shift(-forecast_out)\n",
    "df.tail(40)"
   ]
  },
  {
   "cell_type": "code",
   "execution_count": 32,
   "metadata": {},
   "outputs": [
    {
     "data": {
      "text/plain": [
       "(3183,)"
      ]
     },
     "execution_count": 32,
     "metadata": {},
     "output_type": "execute_result"
    }
   ],
   "source": [
    "y_label = np.array( df.label[:-forecast_out:])\n",
    "y_label.shape"
   ]
  },
  {
   "cell_type": "code",
   "execution_count": 33,
   "metadata": {},
   "outputs": [
    {
     "name": "stderr",
     "output_type": "stream",
     "text": [
      "c:\\users\\dell\\appdata\\local\\programs\\python\\python35\\lib\\site-packages\\sklearn\\cross_validation.py:44: DeprecationWarning: This module was deprecated in version 0.18 in favor of the model_selection module into which all the refactored classes and functions are moved. Also note that the interface of the new CV iterators are different from that of this module. This module will be removed in 0.20.\n",
      "  \"This module will be removed in 0.20.\", DeprecationWarning)\n"
     ]
    }
   ],
   "source": [
    "from sklearn.cross_validation import train_test_split\n",
    "X_train, X_test, y_train, y_test = train_test_split(\n",
    "    X_data, y_label, test_size=0.2, random_state=0)"
   ]
  },
  {
   "cell_type": "code",
   "execution_count": 34,
   "metadata": {},
   "outputs": [
    {
     "data": {
      "text/plain": [
       "0.97106541284111503"
      ]
     },
     "execution_count": 34,
     "metadata": {},
     "output_type": "execute_result"
    }
   ],
   "source": [
    "from sklearn.linear_model import LinearRegression\n",
    "clf = LinearRegression()\n",
    "clf.fit(X_train,y_train)\n",
    "accuracy = clf.score(X_test,y_test)\n",
    "accuracy\n"
   ]
  },
  {
   "cell_type": "code",
   "execution_count": 35,
   "metadata": {},
   "outputs": [
    {
     "data": {
      "text/plain": [
       "array([  853.71480147,   855.79962776,   854.50268808,   868.69612282,\n",
       "         868.4079206 ,   870.78801984,   874.38306975,   873.42502017,\n",
       "         892.42223334,   902.30885905,   903.29629897,   905.6807638 ,\n",
       "         937.4399301 ,   946.1719358 ,   950.9023429 ,   962.0839164 ,\n",
       "         968.56519937,   964.21862133,   972.47456356,   970.95305281,\n",
       "         969.38190938,   970.29354648,   969.74319143,   973.4761178 ,\n",
       "         979.37850202,   954.51837206,   964.30560844,   969.10508871,\n",
       "         978.56088948,   984.71268432,   992.31734761,  1005.30646915,\n",
       "        1007.58888089])"
      ]
     },
     "execution_count": 35,
     "metadata": {},
     "output_type": "execute_result"
    }
   ],
   "source": [
    "forecast_set = clf.predict(X_predict)\n",
    "forecast_set"
   ]
  },
  {
   "cell_type": "code",
   "execution_count": 38,
   "metadata": {},
   "outputs": [
    {
     "data": {
      "image/png": "[encoded data removed]",
      "text/plain": [
       "<matplotlib.figure.Figure at 0x1cea05eb828>"
      ]
     },
     "metadata": {},
     "output_type": "display_data"
    }
   ],
   "source": [
    "import matplotlib.pyplot as plt\n",
    "\n",
    "t = np.arange(1,len(y_predict)+1)\n",
    "plt.plot(t,forecast_set,t,y_predict)\n",
    "plt.show()"
   ]
  },
  {
   "cell_type": "code",
   "execution_count": null,
   "metadata": {
    "collapsed": true
   },
   "outputs": [],
   "source": []
  }
 ],
 "metadata": {
  "kernelspec": {
   "display_name": "Python 3",
   "language": "python",
   "name": "python3"
  },
  "language_info": {
   "codemirror_mode": {
    "name": "ipython",
    "version": 3
   },
   "file_extension": ".py",
   "mimetype": "text/x-python",
   "name": "python",
   "nbconvert_exporter": "python",
   "pygments_lexer": "ipython3",
   "version": "3.5.2"
  }
 },
 "nbformat": 4,
 "nbformat_minor": 2
}
